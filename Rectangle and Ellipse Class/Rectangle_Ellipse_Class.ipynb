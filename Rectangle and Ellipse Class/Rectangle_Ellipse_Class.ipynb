{
 "cells": [
  {
   "cell_type": "markdown",
   "id": "2ac12b9e-25ef-4c9b-86f7-c9364d52cf59",
   "metadata": {},
   "source": [
    "# Calculating area and parameter using class \"Rectangle\""
   ]
  },
  {
   "cell_type": "code",
   "execution_count": 18,
   "id": "6e17b4de-983b-40db-8471-d4b31072c0f8",
   "metadata": {},
   "outputs": [],
   "source": [
    "class Rectangle:\n",
    "    def __init__(self,width,length):\n",
    "        self.length = length\n",
    "        self.width = width\n",
    "\n",
    "    def area(self):\n",
    "        return self.width * self.length\n",
    "\n",
    "    def perimeter(self):\n",
    "        return 2 * (self.width + self.length)\n"
   ]
  },
  {
   "cell_type": "code",
   "execution_count": 20,
   "id": "2d59df7e-2340-4336-8bac-d013a08e3bdd",
   "metadata": {},
   "outputs": [
    {
     "data": {
      "text/plain": [
       "12"
      ]
     },
     "execution_count": 20,
     "metadata": {},
     "output_type": "execute_result"
    }
   ],
   "source": [
    "myRectangle = Rectangle(2,6)\n",
    "myRectangle.area()"
   ]
  },
  {
   "cell_type": "markdown",
   "id": "99392be9-d109-43e3-be98-b9366d95c278",
   "metadata": {},
   "source": [
    " # class \"Ellipse\" with the lengths of the semi-major and semi-minor axis as the attributes"
   ]
  },
  {
   "cell_type": "markdown",
   "id": "12b55fdb-c8a0-4767-b8e4-ead48d16f8f4",
   "metadata": {},
   "source": [
    "Implement the area and perimeter methods similar to the rectangle class"
   ]
  },
  {
   "cell_type": "markdown",
   "id": "2d0a1d30-53db-4a37-baf6-c3589dd117b0",
   "metadata": {},
   "source": [
    "Implement a method that takes in a point (x,y) and returns the position of the point, i.e. \n",
    "whether the point is inside, on the circumference, or outside the ellipse"
   ]
  },
  {
   "cell_type": "markdown",
   "id": "5ec8b3f0-e841-489e-8cac-8463e3218c90",
   "metadata": {},
   "source": [
    "Implement a method that computes the radius of curvature given a point (x,y)"
   ]
  },
  {
   "cell_type": "markdown",
   "id": "0ef647f6-70e7-4bf4-aff9-bd687ba59edf",
   "metadata": {},
   "source": [
    "https://www.mathsisfun.com/geometry/ellipse-perimeter.html"
   ]
  },
  {
   "cell_type": "markdown",
   "id": "425f01ae-b6dc-425e-80ee-87d319edd0d4",
   "metadata": {},
   "source": [
    "https://courses.lumenlearning.com/waymakercollegealgebra/chapter/equations-of-ellipses/"
   ]
  },
  {
   "cell_type": "code",
   "execution_count": 25,
   "id": "8a2569ad-217a-4628-9296-29c42c3fc563",
   "metadata": {},
   "outputs": [],
   "source": [
    "class Ellipse:\n",
    "    \n",
    "    def __init__(self,semi_major,semi_minor):\n",
    "        self.semi_major = semi_major\n",
    "        self.semi_minor = semi_minor\n",
    "        self.x = None\n",
    "        self.y = None\n",
    "\n",
    "    def area(self):\n",
    "        import math\n",
    "        return self.semi_major * self.semi_minor * math.pi\n",
    "\n",
    "    def perimeter(self):\n",
    "        import math\n",
    "        a = self.semi_major\n",
    "        b = self.semi_minor\n",
    "        h = (a-b)**2/(a+b)**2\n",
    "        return math.pi*(a+b)*(1+((3*h)/(10+math.sqrt(4-3*h))))\n",
    "\n",
    "    def position_of_point(self):\n",
    "        \"\"\" Assuming the ellipse lie on the origion and the ellipse is Horizontal\"\"\"\n",
    "        self.x = float(input(\"Enter the x coordinate: \"))\n",
    "        self.y = float(input(\"Enter the y coordinate: \"))\n",
    "        equation_ellipse = self.x**2/self.semi_major**2 + self.y**2/self.semi_minor**2\n",
    "        if equation_ellipse < 1:\n",
    "            print(f\"Point ({self.x},{self.y}) lies inside the ellipse\")\n",
    "        elif equation_ellipse == 1:\n",
    "            print(f\"Point ({self.x},{self.y}) lies on the ellipse\")\n",
    "        else:\n",
    "            print(f\"Point ({self.x},{self.y}) lies outside the ellipse\")\n",
    "\n",
    "    def radius_of_curvature(self):\n",
    "        self.x = float(input(\"Enter the x coordinate: \"))\n",
    "        self.y = float(input(\"Enter the y coordinate: \"))\n",
    "        return (self.semi_minor**2 * self.x**2 + self.semi_major**2 * self.y**2)**(3/2) / (self.semi_major**2 * self.semi_minor**2)"
   ]
  },
  {
   "cell_type": "code",
   "execution_count": 27,
   "id": "e9118868-b33e-4079-8b50-bc9ccbe8f58c",
   "metadata": {},
   "outputs": [
    {
     "data": {
      "text/plain": [
       "40.63927210018871"
      ]
     },
     "execution_count": 27,
     "metadata": {},
     "output_type": "execute_result"
    }
   ],
   "source": [
    "myEllipse = Ellipse(10,1)\n",
    "myEllipse.perimeter()"
   ]
  },
  {
   "cell_type": "code",
   "execution_count": 29,
   "id": "94c8af1a-476b-41f9-90e9-0ed4f1bd5e1a",
   "metadata": {},
   "outputs": [
    {
     "name": "stdin",
     "output_type": "stream",
     "text": [
      "Enter the x coordinate:  6\n",
      "Enter the y coordinate:  2\n"
     ]
    },
    {
     "name": "stdout",
     "output_type": "stream",
     "text": [
      "Point (6.0,2.0) lies outside the ellipse\n"
     ]
    }
   ],
   "source": [
    "myEllipse.position_of_point()"
   ]
  },
  {
   "cell_type": "code",
   "execution_count": 167,
   "id": "370bba33-ae25-4c32-9c75-b4951ef94670",
   "metadata": {},
   "outputs": [
    {
     "name": "stdin",
     "output_type": "stream",
     "text": [
      "Enter the x coordinate:  0.2\n",
      "Enter the y coordinate:  0.2\n"
     ]
    },
    {
     "name": "stdout",
     "output_type": "stream",
     "text": [
      "Point (0.2,0.2) lies inside the ellipse\n"
     ]
    }
   ],
   "source": [
    "myEllipse.position_of_point()"
   ]
  },
  {
   "cell_type": "code",
   "execution_count": 176,
   "id": "03bff981-f9a1-41d6-9cce-558ed41ab563",
   "metadata": {},
   "outputs": [
    {
     "name": "stdin",
     "output_type": "stream",
     "text": [
      "Enter the x coordinate:  2\n",
      "Enter the y coordinate:  2\n"
     ]
    },
    {
     "data": {
      "text/plain": [
       "81.2029950186568"
      ]
     },
     "execution_count": 176,
     "metadata": {},
     "output_type": "execute_result"
    }
   ],
   "source": [
    "myEllipse.radius_of_curvature()"
   ]
  },
  {
   "cell_type": "markdown",
   "id": "a94b5872-1145-43fd-832a-c4d4edd9a069",
   "metadata": {},
   "source": [
    "# class \"Circle\" that inherits from the \"Ellipse\" class, and takes the radius of the circle as an input attribute"
   ]
  },
  {
   "cell_type": "markdown",
   "id": "b01f7322-74e0-412e-916b-72a38cea95e5",
   "metadata": {},
   "source": [
    "Implement a method that takes two points as input and computes the arclength between \n",
    "the points"
   ]
  },
  {
   "cell_type": "code",
   "execution_count": 227,
   "id": "bf1fbe0e-2cd7-4a9e-b734-1d7f316a719a",
   "metadata": {},
   "outputs": [],
   "source": [
    "class Circle(Ellipse):\n",
    "    \n",
    "    def __init__(self,radius):\n",
    "        super().__init__(semi_major = radius, semi_minor = radius)\n",
    "\n",
    "    def arc_length(self,theta):\n",
    "        \"\"\" here the value of theta is in radian\"\"\"\n",
    "        radius = self.semi_major\n",
    "        # formula for arc length\n",
    "        arc_length = radius * theta\n",
    "        return arc_length"
   ]
  },
  {
   "cell_type": "code",
   "execution_count": 229,
   "id": "e397f746-dea4-4555-8806-f39d27741300",
   "metadata": {},
   "outputs": [],
   "source": [
    "myCircle = Circle(3)"
   ]
  },
  {
   "cell_type": "code",
   "execution_count": 184,
   "id": "36c9cea2-6605-4d9c-9d5c-f4dd67ce0c4b",
   "metadata": {},
   "outputs": [
    {
     "data": {
      "text/plain": [
       "28.274333882308138"
      ]
     },
     "execution_count": 184,
     "metadata": {},
     "output_type": "execute_result"
    }
   ],
   "source": [
    "myCircle.area()"
   ]
  },
  {
   "cell_type": "code",
   "execution_count": 186,
   "id": "25eb1cdd-8155-4fd5-b62f-06131f5b3e30",
   "metadata": {},
   "outputs": [
    {
     "data": {
      "text/plain": [
       "18.84955592153876"
      ]
     },
     "execution_count": 186,
     "metadata": {},
     "output_type": "execute_result"
    }
   ],
   "source": [
    "myCircle.perimeter()"
   ]
  },
  {
   "cell_type": "code",
   "execution_count": 188,
   "id": "df9101cc-48c9-4db4-aa68-631557e0ad7d",
   "metadata": {},
   "outputs": [
    {
     "name": "stdin",
     "output_type": "stream",
     "text": [
      "Enter the x coordinate:  1\n",
      "Enter the y coordinate:  1\n"
     ]
    },
    {
     "name": "stdout",
     "output_type": "stream",
     "text": [
      "Point (1.0,1.0) lies inside the ellipse\n"
     ]
    }
   ],
   "source": [
    "myCircle.position_of_point()"
   ]
  },
  {
   "cell_type": "code",
   "execution_count": 190,
   "id": "92145a8a-e3a8-4eaa-b37b-360c85f8a1b2",
   "metadata": {},
   "outputs": [
    {
     "name": "stdin",
     "output_type": "stream",
     "text": [
      "Enter the x coordinate:  4\n",
      "Enter the y coordinate:  4\n"
     ]
    },
    {
     "name": "stdout",
     "output_type": "stream",
     "text": [
      "Point (4.0,4.0) lies outside the ellipse\n"
     ]
    }
   ],
   "source": [
    "myCircle.position_of_point()"
   ]
  },
  {
   "cell_type": "code",
   "execution_count": 194,
   "id": "019d675a-4fd0-4947-9913-54737ea93d68",
   "metadata": {},
   "outputs": [
    {
     "name": "stdin",
     "output_type": "stream",
     "text": [
      "Enter the x coordinate:  1\n",
      "Enter the y coordinate:  1\n"
     ]
    },
    {
     "data": {
      "text/plain": [
       "0.9428090415820635"
      ]
     },
     "execution_count": 194,
     "metadata": {},
     "output_type": "execute_result"
    }
   ],
   "source": [
    "myCircle.radius_of_curvature()"
   ]
  },
  {
   "cell_type": "code",
   "execution_count": 231,
   "id": "01bf86a6-54b9-4e9d-b87a-6b1f88570d04",
   "metadata": {},
   "outputs": [
    {
     "data": {
      "text/plain": [
       "0.75"
      ]
     },
     "execution_count": 231,
     "metadata": {},
     "output_type": "execute_result"
    }
   ],
   "source": [
    "myCircle.arc_length(.25)"
   ]
  },
  {
   "cell_type": "code",
   "execution_count": null,
   "id": "7c0254f1-b55b-47bf-b8bc-47a76560d612",
   "metadata": {},
   "outputs": [],
   "source": []
  }
 ],
 "metadata": {
  "kernelspec": {
   "display_name": "Python 3 (ipykernel)",
   "language": "python",
   "name": "python3"
  },
  "language_info": {
   "codemirror_mode": {
    "name": "ipython",
    "version": 3
   },
   "file_extension": ".py",
   "mimetype": "text/x-python",
   "name": "python",
   "nbconvert_exporter": "python",
   "pygments_lexer": "ipython3",
   "version": "3.12.7"
  }
 },
 "nbformat": 4,
 "nbformat_minor": 5
}
